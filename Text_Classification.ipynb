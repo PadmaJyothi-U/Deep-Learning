{
  "nbformat": 4,
  "nbformat_minor": 0,
  "metadata": {
    "colab": {
      "provenance": [],
      "authorship_tag": "ABX9TyMkLUHxXBvs9aCYoyvQ1xiP",
      "include_colab_link": true
    },
    "kernelspec": {
      "name": "python3",
      "display_name": "Python 3"
    },
    "language_info": {
      "name": "python"
    }
  },
  "cells": [
    {
      "cell_type": "markdown",
      "metadata": {
        "id": "view-in-github",
        "colab_type": "text"
      },
      "source": [
        "<a href=\"https://colab.research.google.com/github/PadmaJyothi-U/Deep-Learning/blob/main/Text_Classification.ipynb\" target=\"_parent\"><img src=\"https://colab.research.google.com/assets/colab-badge.svg\" alt=\"Open In Colab\"/></a>"
      ]
    },
    {
      "cell_type": "markdown",
      "source": [
        "# **Experiment-11**\n",
        "\n",
        "---\n",
        "\n"
      ],
      "metadata": {
        "id": "x1bxcrY9ID9z"
      }
    },
    {
      "cell_type": "markdown",
      "source": [
        "### **Text Classification using RNN**"
      ],
      "metadata": {
        "id": "pu7Suv0vIGkQ"
      }
    },
    {
      "cell_type": "code",
      "execution_count": 1,
      "metadata": {
        "id": "oJdHPtVtIBll"
      },
      "outputs": [],
      "source": [
        "import tensorflow as tf\n",
        "import matplotlib.pyplot as plt\n",
        "import numpy as np\n",
        "\n",
        "# Load the IMDB Reviews dataset\n",
        "(x_train, y_train), (x_test, y_test) = tf.keras.datasets.imdb.load_data(num_words=10000)"
      ]
    },
    {
      "cell_type": "code",
      "source": [
        "print(x_train)"
      ],
      "metadata": {
        "colab": {
          "base_uri": "https://localhost:8080/",
          "height": 0
        },
        "id": "GE2MNZIxIa9N",
        "outputId": "5679f46f-5dec-417f-b29f-17527911a94d"
      },
      "execution_count": 2,
      "outputs": [
        {
          "output_type": "stream",
          "name": "stdout",
          "text": [
            "[list([1, 14, 22, 16, 43, 530, 973, 1622, 1385, 65, 458, 4468, 66, 3941, 4, 173, 36, 256, 5, 25, 100, 43, 838, 112, 50, 670, 2, 9, 35, 480, 284, 5, 150, 4, 172, 112, 167, 2, 336, 385, 39, 4, 172, 4536, 1111, 17, 546, 38, 13, 447, 4, 192, 50, 16, 6, 147, 2025, 19, 14, 22, 4, 1920, 4613, 469, 4, 22, 71, 87, 12, 16, 43, 530, 38, 76, 15, 13, 1247, 4, 22, 17, 515, 17, 12, 16, 626, 18, 2, 5, 62, 386, 12, 8, 316, 8, 106, 5, 4, 2223, 5244, 16, 480, 66, 3785, 33, 4, 130, 12, 16, 38, 619, 5, 25, 124, 51, 36, 135, 48, 25, 1415, 33, 6, 22, 12, 215, 28, 77, 52, 5, 14, 407, 16, 82, 2, 8, 4, 107, 117, 5952, 15, 256, 4, 2, 7, 3766, 5, 723, 36, 71, 43, 530, 476, 26, 400, 317, 46, 7, 4, 2, 1029, 13, 104, 88, 4, 381, 15, 297, 98, 32, 2071, 56, 26, 141, 6, 194, 7486, 18, 4, 226, 22, 21, 134, 476, 26, 480, 5, 144, 30, 5535, 18, 51, 36, 28, 224, 92, 25, 104, 4, 226, 65, 16, 38, 1334, 88, 12, 16, 283, 5, 16, 4472, 113, 103, 32, 15, 16, 5345, 19, 178, 32])\n",
            " list([1, 194, 1153, 194, 8255, 78, 228, 5, 6, 1463, 4369, 5012, 134, 26, 4, 715, 8, 118, 1634, 14, 394, 20, 13, 119, 954, 189, 102, 5, 207, 110, 3103, 21, 14, 69, 188, 8, 30, 23, 7, 4, 249, 126, 93, 4, 114, 9, 2300, 1523, 5, 647, 4, 116, 9, 35, 8163, 4, 229, 9, 340, 1322, 4, 118, 9, 4, 130, 4901, 19, 4, 1002, 5, 89, 29, 952, 46, 37, 4, 455, 9, 45, 43, 38, 1543, 1905, 398, 4, 1649, 26, 6853, 5, 163, 11, 3215, 2, 4, 1153, 9, 194, 775, 7, 8255, 2, 349, 2637, 148, 605, 2, 8003, 15, 123, 125, 68, 2, 6853, 15, 349, 165, 4362, 98, 5, 4, 228, 9, 43, 2, 1157, 15, 299, 120, 5, 120, 174, 11, 220, 175, 136, 50, 9, 4373, 228, 8255, 5, 2, 656, 245, 2350, 5, 4, 9837, 131, 152, 491, 18, 2, 32, 7464, 1212, 14, 9, 6, 371, 78, 22, 625, 64, 1382, 9, 8, 168, 145, 23, 4, 1690, 15, 16, 4, 1355, 5, 28, 6, 52, 154, 462, 33, 89, 78, 285, 16, 145, 95])\n",
            " list([1, 14, 47, 8, 30, 31, 7, 4, 249, 108, 7, 4, 5974, 54, 61, 369, 13, 71, 149, 14, 22, 112, 4, 2401, 311, 12, 16, 3711, 33, 75, 43, 1829, 296, 4, 86, 320, 35, 534, 19, 263, 4821, 1301, 4, 1873, 33, 89, 78, 12, 66, 16, 4, 360, 7, 4, 58, 316, 334, 11, 4, 1716, 43, 645, 662, 8, 257, 85, 1200, 42, 1228, 2578, 83, 68, 3912, 15, 36, 165, 1539, 278, 36, 69, 2, 780, 8, 106, 14, 6905, 1338, 18, 6, 22, 12, 215, 28, 610, 40, 6, 87, 326, 23, 2300, 21, 23, 22, 12, 272, 40, 57, 31, 11, 4, 22, 47, 6, 2307, 51, 9, 170, 23, 595, 116, 595, 1352, 13, 191, 79, 638, 89, 2, 14, 9, 8, 106, 607, 624, 35, 534, 6, 227, 7, 129, 113])\n",
            " ...\n",
            " list([1, 11, 6, 230, 245, 6401, 9, 6, 1225, 446, 2, 45, 2174, 84, 8322, 4007, 21, 4, 912, 84, 2, 325, 725, 134, 2, 1715, 84, 5, 36, 28, 57, 1099, 21, 8, 140, 8, 703, 5, 2, 84, 56, 18, 1644, 14, 9, 31, 7, 4, 9406, 1209, 2295, 2, 1008, 18, 6, 20, 207, 110, 563, 12, 8, 2901, 2, 8, 97, 6, 20, 53, 4767, 74, 4, 460, 364, 1273, 29, 270, 11, 960, 108, 45, 40, 29, 2961, 395, 11, 6, 4065, 500, 7, 2, 89, 364, 70, 29, 140, 4, 64, 4780, 11, 4, 2678, 26, 178, 4, 529, 443, 2, 5, 27, 710, 117, 2, 8123, 165, 47, 84, 37, 131, 818, 14, 595, 10, 10, 61, 1242, 1209, 10, 10, 288, 2260, 1702, 34, 2901, 2, 4, 65, 496, 4, 231, 7, 790, 5, 6, 320, 234, 2766, 234, 1119, 1574, 7, 496, 4, 139, 929, 2901, 2, 7750, 5, 4241, 18, 4, 8497, 2, 250, 11, 1818, 7561, 4, 4217, 5408, 747, 1115, 372, 1890, 1006, 541, 9303, 7, 4, 59, 2, 4, 3586, 2])\n",
            " list([1, 1446, 7079, 69, 72, 3305, 13, 610, 930, 8, 12, 582, 23, 5, 16, 484, 685, 54, 349, 11, 4120, 2959, 45, 58, 1466, 13, 197, 12, 16, 43, 23, 2, 5, 62, 30, 145, 402, 11, 4131, 51, 575, 32, 61, 369, 71, 66, 770, 12, 1054, 75, 100, 2198, 8, 4, 105, 37, 69, 147, 712, 75, 3543, 44, 257, 390, 5, 69, 263, 514, 105, 50, 286, 1814, 23, 4, 123, 13, 161, 40, 5, 421, 4, 116, 16, 897, 13, 2, 40, 319, 5872, 112, 6700, 11, 4803, 121, 25, 70, 3468, 4, 719, 3798, 13, 18, 31, 62, 40, 8, 7200, 4, 2, 7, 14, 123, 5, 942, 25, 8, 721, 12, 145, 5, 202, 12, 160, 580, 202, 12, 6, 52, 58, 2, 92, 401, 728, 12, 39, 14, 251, 8, 15, 251, 5, 2, 12, 38, 84, 80, 124, 12, 9, 23])\n",
            " list([1, 17, 6, 194, 337, 7, 4, 204, 22, 45, 254, 8, 106, 14, 123, 4, 2, 270, 2, 5, 2, 2, 732, 2098, 101, 405, 39, 14, 1034, 4, 1310, 9, 115, 50, 305, 12, 47, 4, 168, 5, 235, 7, 38, 111, 699, 102, 7, 4, 4039, 9245, 9, 24, 6, 78, 1099, 17, 2345, 2, 21, 27, 9685, 6139, 5, 2, 1603, 92, 1183, 4, 1310, 7, 4, 204, 42, 97, 90, 35, 221, 109, 29, 127, 27, 118, 8, 97, 12, 157, 21, 6789, 2, 9, 6, 66, 78, 1099, 4, 631, 1191, 5, 2642, 272, 191, 1070, 6, 7585, 8, 2197, 2, 2, 544, 5, 383, 1271, 848, 1468, 2, 497, 2, 8, 1597, 8778, 2, 21, 60, 27, 239, 9, 43, 8368, 209, 405, 10, 10, 12, 764, 40, 4, 248, 20, 12, 16, 5, 174, 1791, 72, 7, 51, 6, 1739, 22, 4, 204, 131, 9])]\n"
          ]
        }
      ]
    },
    {
      "cell_type": "markdown",
      "source": [
        "Padding is a common technique used in natural language processing (NLP) to ensure that all input sequences have the same length. This is often necessary because many NLP models, such as neural networks, require fixed-length input sequences."
      ],
      "metadata": {
        "id": "o5Jy9bXEIOz0"
      }
    },
    {
      "cell_type": "code",
      "source": [
        "# Pad the sequences to have equal length\n",
        "max_len = 500\n",
        "x_train = tf.keras.preprocessing.sequence.pad_sequences(x_train, maxlen=max_len)\n",
        "x_test = tf.keras.preprocessing.sequence.pad_sequences(x_test, maxlen=max_len)"
      ],
      "metadata": {
        "id": "NH-qZ3XWIDHN"
      },
      "execution_count": 3,
      "outputs": []
    },
    {
      "cell_type": "code",
      "source": [
        "# Set the input and output dimensions\n",
        "input_dim = 10000\n",
        "output_dim = 1\n",
        "# Create the input layer\n",
        "inputs = tf.keras.Input(shape=(None,), dtype=\"int32\")\n",
        "\n",
        "# Create the model\n",
        "x = tf.keras.layers.Embedding(input_dim, 128)(inputs)\n",
        "x = tf.keras.layers.Bidirectional(tf.keras.layers.LSTM(64, return_sequences=True))(x)\n",
        "x = tf.keras.layers.Bidirectional(tf.keras.layers.LSTM(64))(x)\n",
        "outputs = tf.keras.layers.Dense(output_dim, activation=\"sigmoid\")(x)\n",
        "model = tf.keras.Model(inputs, outputs)"
      ],
      "metadata": {
        "id": "VsF8XIn-IQ0P"
      },
      "execution_count": 4,
      "outputs": []
    },
    {
      "cell_type": "code",
      "source": [
        "# Compile the model\n",
        "model.compile(\"adam\", \"binary_crossentropy\", metrics=[\"accuracy\"])"
      ],
      "metadata": {
        "id": "X-U1c-oNISWy"
      },
      "execution_count": 5,
      "outputs": []
    },
    {
      "cell_type": "code",
      "source": [
        "# Train the model\n",
        "batch_size = 32\n",
        "epochs = 5\n",
        "history = model.fit(x_train, y_train, batch_size=batch_size, epochs=epochs, validation_data=(x_test, y_test))"
      ],
      "metadata": {
        "colab": {
          "base_uri": "https://localhost:8080/",
          "height": 0
        },
        "id": "-ZohnaU6IT8Y",
        "outputId": "e639b1be-44eb-4ed9-fea3-baff9717765e"
      },
      "execution_count": null,
      "outputs": [
        {
          "output_type": "stream",
          "name": "stdout",
          "text": [
            "Epoch 1/5\n",
            "782/782 [==============================] - ETA: 0s - loss: 0.4999 - accuracy: 0.7549"
          ]
        }
      ]
    },
    {
      "cell_type": "code",
      "source": [
        "# Plot the accuracy \n",
        "fig = plt.plot(history.history['accuracy'])\n",
        "title = plt.title(\"History\")\n",
        "xlabel = plt.xlabel(\"Epochs\")\n",
        "ylabel = plt.ylabel(\"Accuracy\")"
      ],
      "metadata": {
        "id": "rz01PWrJIWEw"
      },
      "execution_count": null,
      "outputs": []
    },
    {
      "cell_type": "markdown",
      "source": [
        "![image.png](data:image/png;base64,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)"
      ],
      "metadata": {
        "id": "vaNNBU7vRNkl"
      }
    }
  ]
}