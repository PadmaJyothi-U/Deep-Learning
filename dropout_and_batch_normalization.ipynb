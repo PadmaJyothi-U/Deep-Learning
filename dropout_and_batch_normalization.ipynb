{
  "cells": [
    {
      "cell_type": "markdown",
      "metadata": {
        "id": "view-in-github",
        "colab_type": "text"
      },
      "source": [
        "<a href=\"https://colab.research.google.com/github/PadmaJyothi-U/Deep-Learning/blob/main/dropout_and_batch_normalization.ipynb\" target=\"_parent\"><img src=\"https://colab.research.google.com/assets/colab-badge.svg\" alt=\"Open In Colab\"/></a>"
      ]
    },
    {
      "cell_type": "markdown",
      "id": "746e6104",
      "metadata": {
        "papermill": {
          "duration": 0.003734,
          "end_time": "2023-04-20T18:10:09.887348",
          "exception": false,
          "start_time": "2023-04-20T18:10:09.883614",
          "status": "completed"
        },
        "tags": [],
        "id": "746e6104"
      },
      "source": [
        "# Introduction #\n",
        "\n",
        "There's more to the world of deep learning than just dense layers. There are dozens of kinds of layers you might add to a model. (Try browsing through the [Keras docs](https://www.tensorflow.org/api_docs/python/tf/keras/layers/) for a sample!) Some are like dense layers and define connections between neurons, and others can do preprocessing or transformations of other sorts.\n",
        "\n",
        "In this lesson, we'll learn about a two kinds of special layers, not containing any neurons themselves, but that add some functionality that can sometimes benefit a model in various ways. Both are commonly used in modern architectures.\n",
        "\n",
        "# Dropout #\n",
        "\n",
        "The first of these is the \"dropout layer\", which can help correct overfitting.\n",
        "\n",
        "In the last lesson we talked about how overfitting is caused by the network learning spurious patterns in the training data. To recognize these spurious patterns a network will often rely on very a specific combinations of weight, a kind of \"conspiracy\" of weights. Being so specific, they tend to be fragile: remove one and the conspiracy falls apart.\n",
        "\n",
        "This is the idea behind **dropout**. To break up these conspiracies, we randomly *drop out* some fraction of a layer's input units every step of training, making it much harder for the network to learn those spurious patterns in the training data. Instead, it has to search for broad, general patterns, whose weight patterns tend to be more robust.\n",
        "\n",
        "<figure style=\"padding: 1em;\">\n",
        "<img src=\"https://storage.googleapis.com/kaggle-media/learn/images/a86utxY.gif\" width=\"600\" alt=\"An animation of a network cycling through various random dropout configurations.\">\n",
        "<figcaption style=\"textalign: center; font-style: italic\"><center>Here, 50% dropout has been added between the two hidden layers.</center></figcaption>\n",
        "</figure>\n",
        "\n",
        "You could also think about dropout as creating a kind of *ensemble* of networks. The predictions will no longer be made by one big network, but instead by a committee of smaller networks. Individuals in the committee tend to make different kinds of mistakes, but be right at the same time, making the committee as a whole better than any individual. (If you're familiar with random forests as an ensemble of decision trees, it's the same idea.)\n",
        "\n",
        "## Adding Dropout ##\n",
        "\n",
        "In Keras, the dropout rate argument `rate` defines what percentage of the input units to shut off. Put the `Dropout` layer just before the layer you want the dropout applied to:\n",
        "\n",
        "```\n",
        "keras.Sequential([\n",
        "    # ...\n",
        "    layers.Dropout(rate=0.3), # apply 30% dropout to the next layer\n",
        "    layers.Dense(16),\n",
        "    # ...\n",
        "])\n",
        "```\n",
        "\n",
        "# Batch Normalization #\n",
        "\n",
        "The next special layer we'll look at performs \"batch normalization\" (or \"batchnorm\"), which can help correct training that is slow or unstable.\n",
        "\n",
        "With neural networks, it's generally a good idea to put all of your data on a common scale, perhaps with something like scikit-learn's [StandardScaler](https://scikit-learn.org/stable/modules/generated/sklearn.preprocessing.StandardScaler.html) or [MinMaxScaler](https://scikit-learn.org/stable/modules/generated/sklearn.preprocessing.MinMaxScaler.html). The reason is that SGD will shift the network weights in proportion to how large an activation the data produces. Features that tend to produce activations of very different sizes can make for unstable training behavior.\n",
        "\n",
        "Now, if it's good to normalize the data before it goes into the network, maybe also normalizing inside the network would be better! In fact, we have a special kind of layer that can do this, the **batch normalization layer**. A batch normalization layer looks at each batch as it comes in, first normalizing the batch with its own mean and standard deviation, and then also putting the data on a new scale with two trainable rescaling parameters. Batchnorm, in effect, performs a kind of coordinated rescaling of its inputs.\n",
        "\n",
        "Most often, batchnorm is added as an aid to the optimization process (though it can sometimes also help prediction performance). Models with batchnorm tend to need fewer epochs to complete training. Moreover, batchnorm can also fix various problems that can cause the training to get \"stuck\". Consider adding batch normalization to your models, especially if you're having trouble during training.\n",
        "\n",
        "## Adding Batch Normalization ##\n",
        "\n",
        "It seems that batch normalization can be used at almost any point in a network. You can put it after a layer...\n",
        "\n",
        "```\n",
        "layers.Dense(16, activation='relu'),\n",
        "layers.BatchNormalization(),\n",
        "```\n",
        "\n",
        "... or between a layer and its activation function:\n",
        "\n",
        "```\n",
        "layers.Dense(16),\n",
        "layers.BatchNormalization(),\n",
        "layers.Activation('relu'),\n",
        "```\n",
        "\n",
        "And if you add it as the first layer of your network it can act as a kind of adaptive preprocessor, standing in for something like Sci-Kit Learn's `StandardScaler`.\n",
        "\n",
        "# Example - Using Dropout and Batch Normalization #\n",
        "\n",
        "Let's continue developing the *Red Wine* model. Now we'll increase the capacity even more, but add dropout to control overfitting and batch normalization to speed up optimization. This time, we'll also leave off standardizing the data, to demonstrate how batch normalization can stabalize the training."
      ]
    },
    {
      "cell_type": "code",
      "execution_count": 1,
      "id": "1f430b37",
      "metadata": {
        "_kg_hide-input": true,
        "execution": {
          "iopub.execute_input": "2023-04-20T18:10:09.894465Z",
          "iopub.status.busy": "2023-04-20T18:10:09.894063Z",
          "iopub.status.idle": "2023-04-20T18:10:09.938731Z",
          "shell.execute_reply": "2023-04-20T18:10:09.937630Z"
        },
        "papermill": {
          "duration": 0.051414,
          "end_time": "2023-04-20T18:10:09.941501",
          "exception": false,
          "start_time": "2023-04-20T18:10:09.890087",
          "status": "completed"
        },
        "tags": [],
        "colab": {
          "base_uri": "https://localhost:8080/"
        },
        "id": "1f430b37",
        "outputId": "9381e846-f8f2-4427-b3c0-cb80b34cbe87"
      },
      "outputs": [
        {
          "output_type": "stream",
          "name": "stderr",
          "text": [
            "<ipython-input-1-dc8b72943de1>:4: MatplotlibDeprecationWarning: The seaborn styles shipped by Matplotlib are deprecated since 3.6, as they no longer correspond to the styles shipped by seaborn. However, they will remain available as 'seaborn-v0_8-<style>'. Alternatively, directly use the seaborn API instead.\n",
            "  plt.style.use('seaborn-whitegrid')\n"
          ]
        }
      ],
      "source": [
        "\n",
        "# Setup plotting\n",
        "import matplotlib.pyplot as plt\n",
        "\n",
        "plt.style.use('seaborn-whitegrid')\n",
        "# Set Matplotlib defaults\n",
        "plt.rc('figure', autolayout=True)\n",
        "plt.rc('axes', labelweight='bold', labelsize='large',\n",
        "       titleweight='bold', titlesize=18, titlepad=10)\n",
        "\n",
        "\n",
        "import pandas as pd\n",
        "red_wine = pd.read_csv('red-wine.csv')\n",
        "\n",
        "# Create training and validation splits\n",
        "df_train = red_wine.sample(frac=0.7, random_state=0)\n",
        "df_valid = red_wine.drop(df_train.index)\n",
        "\n",
        "# Split features and target\n",
        "X_train = df_train.drop('quality', axis=1)\n",
        "X_valid = df_valid.drop('quality', axis=1)\n",
        "y_train = df_train['quality']\n",
        "y_valid = df_valid['quality']"
      ]
    },
    {
      "cell_type": "markdown",
      "id": "befe8aa2",
      "metadata": {
        "papermill": {
          "duration": 0.002261,
          "end_time": "2023-04-20T18:10:09.946510",
          "exception": false,
          "start_time": "2023-04-20T18:10:09.944249",
          "status": "completed"
        },
        "tags": [],
        "id": "befe8aa2"
      },
      "source": [
        "When adding dropout, you may need to increase the number of units in your `Dense` layers."
      ]
    },
    {
      "cell_type": "code",
      "execution_count": 2,
      "id": "5210386b",
      "metadata": {
        "execution": {
          "iopub.execute_input": "2023-04-20T18:10:09.953821Z",
          "iopub.status.busy": "2023-04-20T18:10:09.952789Z",
          "iopub.status.idle": "2023-04-20T18:10:19.667782Z",
          "shell.execute_reply": "2023-04-20T18:10:19.666397Z"
        },
        "papermill": {
          "duration": 9.721897,
          "end_time": "2023-04-20T18:10:19.670770",
          "exception": false,
          "start_time": "2023-04-20T18:10:09.948873",
          "status": "completed"
        },
        "tags": [],
        "id": "5210386b"
      },
      "outputs": [],
      "source": [
        "from tensorflow import keras\n",
        "from tensorflow.keras import layers\n",
        "\n",
        "model = keras.Sequential([\n",
        "    layers.Dense(1024, activation='relu', input_shape=[11]),\n",
        "    layers.Dropout(0.3),\n",
        "    layers.BatchNormalization(),\n",
        "    layers.Dense(1024, activation='relu'),\n",
        "    layers.Dropout(0.3),\n",
        "    layers.BatchNormalization(),\n",
        "    layers.Dense(1024, activation='relu'),\n",
        "    layers.Dropout(0.3),\n",
        "    layers.BatchNormalization(),\n",
        "    layers.Dense(1),\n",
        "])"
      ]
    },
    {
      "cell_type": "markdown",
      "id": "be90aa53",
      "metadata": {
        "papermill": {
          "duration": 0.002577,
          "end_time": "2023-04-20T18:10:19.676358",
          "exception": false,
          "start_time": "2023-04-20T18:10:19.673781",
          "status": "completed"
        },
        "tags": [],
        "id": "be90aa53"
      },
      "source": [
        "There's nothing to change this time in how we set up the training."
      ]
    },
    {
      "cell_type": "code",
      "execution_count": 3,
      "id": "089b5f73",
      "metadata": {
        "execution": {
          "iopub.execute_input": "2023-04-20T18:10:19.683952Z",
          "iopub.status.busy": "2023-04-20T18:10:19.683078Z",
          "iopub.status.idle": "2023-04-20T18:11:03.496998Z",
          "shell.execute_reply": "2023-04-20T18:11:03.495483Z"
        },
        "papermill": {
          "duration": 43.826164,
          "end_time": "2023-04-20T18:11:03.505134",
          "exception": false,
          "start_time": "2023-04-20T18:10:19.678970",
          "status": "completed"
        },
        "tags": [],
        "colab": {
          "base_uri": "https://localhost:8080/",
          "height": 487
        },
        "id": "089b5f73",
        "outputId": "60f046d0-07cb-46b6-b539-9e2710c0ef1d"
      },
      "outputs": [
        {
          "output_type": "display_data",
          "data": {
            "text/plain": [
              "<Figure size 640x480 with 1 Axes>"
            ],
            "image/png": "[encoded data removed]"
          },
          "metadata": {}
        }
      ],
      "source": [
        "model.compile(\n",
        "    optimizer='adam',\n",
        "    loss='mae',\n",
        ")\n",
        "\n",
        "history = model.fit(\n",
        "    X_train, y_train,\n",
        "    validation_data=(X_valid, y_valid),\n",
        "    batch_size=256,\n",
        "    epochs=100,\n",
        "    verbose=0,\n",
        ")\n",
        "\n",
        "\n",
        "# Show the learning curves\n",
        "history_df = pd.DataFrame(history.history)\n",
        "history_df.loc[:, ['loss', 'val_loss']].plot();"
      ]
    },
    {
      "cell_type": "markdown",
      "id": "52f35446",
      "metadata": {
        "papermill": {
          "duration": 0.003272,
          "end_time": "2023-04-20T18:11:03.512258",
          "exception": false,
          "start_time": "2023-04-20T18:11:03.508986",
          "status": "completed"
        },
        "tags": [],
        "id": "52f35446"
      },
      "source": [
        "You'll typically get better performance if you standardize your data before using it for training. That we were able to use the raw data at all, however, shows how effective batch normalization can be on more difficult datasets."
      ]
    },
    {
      "cell_type": "markdown",
      "id": "625eb1c2",
      "metadata": {
        "papermill": {
          "duration": 0.003222,
          "end_time": "2023-04-20T18:11:03.519119",
          "exception": false,
          "start_time": "2023-04-20T18:11:03.515897",
          "status": "completed"
        },
        "tags": [],
        "id": "625eb1c2"
      },
      "source": [
        "---\n",
        "\n",
        "\n",
        "\n",
        "\n",
        "*Have questions or comments? Visit the [course discussion forum](https://www.kaggle.com/learn/intro-to-deep-learning/discussion) to chat with other learners.*"
      ]
    }
  ],
  "metadata": {
    "jupytext": {
      "cell_metadata_filter": "-all",
      "formats": "ipynb"
    },
    "kernelspec": {
      "display_name": "Python 3",
      "language": "python",
      "name": "python3"
    },
    "language_info": {
      "codemirror_mode": {
        "name": "ipython",
        "version": 3
      },
      "file_extension": ".py",
      "mimetype": "text/x-python",
      "name": "python",
      "nbconvert_exporter": "python",
      "pygments_lexer": "ipython3",
      "version": "3.7.12"
    },
    "papermill": {
      "default_parameters": {},
      "duration": 66.830333,
      "end_time": "2023-04-20T18:11:06.183305",
      "environment_variables": {},
      "exception": null,
      "input_path": "__notebook__.ipynb",
      "output_path": "__notebook__.ipynb",
      "parameters": {},
      "start_time": "2023-04-20T18:09:59.352972",
      "version": "2.4.0"
    },
    "colab": {
      "provenance": [],
      "include_colab_link": true
    }
  },
  "nbformat": 4,
  "nbformat_minor": 5
}