{
  "nbformat": 4,
  "nbformat_minor": 0,
  "metadata": {
    "colab": {
      "provenance": [],
      "include_colab_link": true
    },
    "kernelspec": {
      "name": "python3",
      "display_name": "Python 3"
    },
    "language_info": {
      "name": "python"
    }
  },
  "cells": [
    {
      "cell_type": "markdown",
      "metadata": {
        "id": "view-in-github",
        "colab_type": "text"
      },
      "source": [
        "<a href=\"https://colab.research.google.com/github/PadmaJyothi-U/Deep-Learning/blob/main/multi_layered_neural_network.ipynb\" target=\"_parent\"><img src=\"https://colab.research.google.com/assets/colab-badge.svg\" alt=\"Open In Colab\"/></a>"
      ]
    },
    {
      "cell_type": "markdown",
      "source": [
        "# **Experiment-4**\n",
        "\n",
        "---\n"
      ],
      "metadata": {
        "id": "TVEGxqsbhPZO"
      }
    },
    {
      "cell_type": "markdown",
      "source": [
        "### **Multi-layered neural network**\n",
        "\n"
      ],
      "metadata": {
        "id": "BxQluwlsp7zU"
      }
    },
    {
      "cell_type": "markdown",
      "source": [
        "A multi-layered neural network is a type of neural network that consists of one or more hidden layers between the input and output layers. These hidden layers perform the computation required to transform the input data into the output prediction.\n",
        "\n",
        "Each layer in a multi-layered neural network is composed of multiple nodes, or neurons, which are connected to the neurons in the previous and next layers through weighted connections. The output of each neuron is computed as a function of the weighted sum of the inputs to the neuron, followed by an activation function. The activation function introduces non-linearity into the network and enables it to learn complex patterns in the data.\n",
        "\n"
      ],
      "metadata": {
        "id": "kbG4waNyvedx"
      }
    },
    {
      "cell_type": "markdown",
      "source": [
        "![image.png](data:image/png;base64,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)"
      ],
      "metadata": {
        "id": "rODbqsQMvt_i"
      }
    },
    {
      "cell_type": "code",
      "source": [
        "from numpy import exp, array, random, dot"
      ],
      "metadata": {
        "id": "POhXhBTFqHNd"
      },
      "execution_count": null,
      "outputs": []
    },
    {
      "cell_type": "code",
      "source": [
        "class NeuronLayer():\n",
        "    def __init__(self, number_of_neurons, number_of_inputs_per_neuron):\n",
        "        self.synaptic_weights = 2 * random.random((number_of_inputs_per_neuron, number_of_neurons)) - 1"
      ],
      "metadata": {
        "id": "LBAdTLO5qHta"
      },
      "execution_count": null,
      "outputs": []
    },
    {
      "cell_type": "code",
      "source": [
        "class NeuralNetwork():\n",
        "    def __init__(self, layer1, layer2):\n",
        "        self.layer1 = layer1\n",
        "        self.layer2 = layer2\n",
        "\n",
        "    # The Sigmoid function, which describes an S shaped curve.\n",
        "    # We pass the weighted sum of the inputs through this function to\n",
        "    # normalise them between 0 and 1.\n",
        "    def __sigmoid(self, x):\n",
        "        return 1 / (1 + exp(-x))\n",
        "\n",
        "    # The derivative of the Sigmoid function.\n",
        "    # This is the gradient of the Sigmoid curve.\n",
        "    # It indicates how confident we are about the existing weight.\n",
        "    def __sigmoid_derivative(self, x):\n",
        "        return x * (1 - x)\n",
        "    \n",
        "    # We train the neural network through a process of trial and error.\n",
        "    # Adjusting the synaptic weights each time.\n",
        "    def train(self, training_set_inputs, training_set_outputs, number_of_training_iterations):\n",
        "        for iteration in range(number_of_training_iterations):\n",
        "            # Pass the training set through our neural network\n",
        "            output_from_layer_1, output_from_layer_2 = self.think(training_set_inputs)\n",
        "\n",
        "            # Calculate the error for layer 2 (The difference between the desired output\n",
        "            # and the predicted output).\n",
        "            layer2_error = training_set_outputs - output_from_layer_2\n",
        "            layer2_delta = layer2_error * self.__sigmoid_derivative(output_from_layer_2)\n",
        "\n",
        "            # Calculate the error for layer 1 (By looking at the weights in layer 1,\n",
        "            # we can determine by how much layer 1 contributed to the error in layer 2).\n",
        "            layer1_error = layer2_delta.dot(self.layer2.synaptic_weights.T)\n",
        "            layer1_delta = layer1_error * self.__sigmoid_derivative(output_from_layer_1)\n",
        "\n",
        "            # Calculate how much to adjust the weights by\n",
        "            layer1_adjustment = training_set_inputs.T.dot(layer1_delta)\n",
        "            layer2_adjustment = output_from_layer_1.T.dot(layer2_delta)\n",
        "\n",
        "            # Adjust the weights.\n",
        "            self.layer1.synaptic_weights += layer1_adjustment\n",
        "            self.layer2.synaptic_weights += layer2_adjustment\n",
        "\n",
        "    # The neural network thinks.\n",
        "    def think(self, inputs):\n",
        "        output_from_layer1 = self.__sigmoid(dot(inputs, self.layer1.synaptic_weights))\n",
        "        output_from_layer2 = self.__sigmoid(dot(output_from_layer1, self.layer2.synaptic_weights))\n",
        "        return output_from_layer1, output_from_layer2\n",
        "\n",
        "    # The neural network prints its weights\n",
        "    def print_weights(self):\n",
        "        print(\"    Layer 1 (4 neurons, each with 3 inputs): \")\n",
        "        print(self.layer1.synaptic_weights)\n",
        "        print(\"    Layer 2 (1 neuron, with 4 inputs):\")\n",
        "        print(self.layer2.synaptic_weights)"
      ],
      "metadata": {
        "id": "ARhqHfSAq8ea"
      },
      "execution_count": null,
      "outputs": []
    },
    {
      "cell_type": "code",
      "source": [
        "if __name__ == \"__main__\":\n",
        "\n",
        "    #Seed the random number generator\n",
        "    random.seed(1)\n",
        "\n",
        "    # Create layer 1 (4 neurons, each with 3 inputs)\n",
        "    layer1 = NeuronLayer(4, 3)\n",
        "\n",
        "    # Create layer 2 (a single neuron with 4 inputs)\n",
        "    layer2 = NeuronLayer(1, 4)\n",
        "\n",
        "    # Combine the layers to create a neural network\n",
        "    neural_network = NeuralNetwork(layer1, layer2)\n",
        "\n",
        "    print (\"Stage 1) Random starting synaptic weights: \")\n",
        "    neural_network.print_weights()\n",
        "\n",
        "    # The training set. We have 7 examples, each consisting of 3 input values\n",
        "    # and 1 output value.\n",
        "    training_set_inputs = array([[0, 0, 1], [0, 1, 1], [1, 0, 1], [0, 1, 0], [1, 0, 0], [1, 1, 1], [0, 0, 0]])\n",
        "    training_set_outputs = array([[0, 1, 1, 1, 1, 0, 0]]).T\n",
        "\n",
        "    # Train the neural network using the training set.\n",
        "    # Do it 60,000 times and make small adjustments each time.\n",
        "    neural_network.train(training_set_inputs, training_set_outputs, 60000)\n",
        "\n",
        "    print(\"Stage 2- New synaptic weights after training: \")\n",
        "    neural_network.print_weights()\n",
        "\n",
        "    # Test the neural network with a new situation.\n",
        "    print(\"Stage 3- Considering a new situation [1, 1, 0] -> ?: \")\n",
        "    hidden_state, output = neural_network.think(array([1, 1, 0]))\n",
        "    print(output)"
      ],
      "metadata": {
        "colab": {
          "base_uri": "https://localhost:8080/"
        },
        "id": "oHG99spzsdE0",
        "outputId": "827da1fb-38e4-4910-dfda-2efa10e54cca"
      },
      "execution_count": null,
      "outputs": [
        {
          "output_type": "stream",
          "name": "stdout",
          "text": [
            "Stage 1) Random starting synaptic weights: \n",
            "    Layer 1 (4 neurons, each with 3 inputs): \n",
            "[[-0.16595599  0.44064899 -0.99977125 -0.39533485]\n",
            " [-0.70648822 -0.81532281 -0.62747958 -0.30887855]\n",
            " [-0.20646505  0.07763347 -0.16161097  0.370439  ]]\n",
            "    Layer 2 (1 neuron, with 4 inputs):\n",
            "[[-0.5910955 ]\n",
            " [ 0.75623487]\n",
            " [-0.94522481]\n",
            " [ 0.34093502]]\n",
            "Stage 2- New synaptic weights after training: \n",
            "    Layer 1 (4 neurons, each with 3 inputs): \n",
            "[[ 0.3122465   4.57704063 -6.15329916 -8.75834924]\n",
            " [ 0.19676933 -8.74975548 -6.1638187   4.40720501]\n",
            " [-0.03327074 -0.58272995  0.08319184 -0.39787635]]\n",
            "    Layer 2 (1 neuron, with 4 inputs):\n",
            "[[ -8.18850925]\n",
            " [ 10.13210706]\n",
            " [-21.33532796]\n",
            " [  9.90935111]]\n",
            "Stage 3- Considering a new situation [1, 1, 0] -> ?: \n",
            "[0.0078876]\n"
          ]
        }
      ]
    },
    {
      "cell_type": "code",
      "source": [],
      "metadata": {
        "id": "nDjMYCnsuITS"
      },
      "execution_count": null,
      "outputs": []
    }
  ]
}