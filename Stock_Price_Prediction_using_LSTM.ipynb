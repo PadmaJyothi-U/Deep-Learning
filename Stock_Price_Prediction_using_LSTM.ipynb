{
  "cells": [
    {
      "cell_type": "markdown",
      "metadata": {
        "id": "view-in-github",
        "colab_type": "text"
      },
      "source": [
        "<a href=\"https://colab.research.google.com/github/PadmaJyothi-U/Deep-Learning/blob/main/Stock_Price_Prediction_using_LSTM.ipynb\" target=\"_parent\"><img src=\"https://colab.research.google.com/assets/colab-badge.svg\" alt=\"Open In Colab\"/></a>"
      ]
    },
    {
      "cell_type": "markdown",
      "source": [
        "# **Experiment-12**"
      ],
      "metadata": {
        "id": "itCDPzM1gV7n"
      }
    },
    {
      "cell_type": "markdown",
      "source": [
        "**Long Short Term Memory** networks – usually just called “LSTMs” – are a special kind of RNN, capable of learning long-term dependencies. Introduced by Hochreiter & Schmidhuber (1997), and were refined and popularized by many people in following work. They work tremendously well on a large variety of problems, and are now widely used.\n",
        "\n",
        "LSTMs are explicitly designed to avoid the long-term dependency problem. Remembering information for long periods of time is practically their default behavior, not something they struggle to learn!\n",
        "\n",
        "All recurrent neural networks have the form of a chain of repeating modules of neural network."
      ],
      "metadata": {
        "id": "DeWWAzbvpIIy"
      }
    },
    {
      "cell_type": "code",
      "execution_count": null,
      "metadata": {
        "_cell_guid": "f366cf34-f601-7e9b-53e5-5b4e2713044f",
        "id": "WurOFJcDlbp_"
      },
      "outputs": [],
      "source": [
        "import numpy as np # linear algebra\n",
        "import pandas as pd # data processing, CSV file I/O (e.g. pd.read_csv)\n",
        "\n",
        "from subprocess import check_output\n",
        "from keras.layers.core import Dense, Activation, Dropout\n",
        "from keras.layers import LSTM\n",
        "from keras.models import Sequential\n",
        "from sklearn.model_selection import train_test_split\n",
        "import time #helper libraries\n",
        "from sklearn.preprocessing import MinMaxScaler\n",
        "import matplotlib.pyplot as plt\n",
        "from numpy import newaxis"
      ]
    },
    {
      "cell_type": "code",
      "execution_count": null,
      "metadata": {
        "_cell_guid": "e7c1344f-59af-8372-0376-940a72566da6",
        "colab": {
          "base_uri": "https://localhost:8080/",
          "height": 423
        },
        "id": "LZnsEnxXlbqB",
        "outputId": "46571848-0ea8-4cfa-9635-93434549cf9e"
      },
      "outputs": [
        {
          "output_type": "execute_result",
          "data": {
            "text/plain": [
              "                       date symbol        open       close         low  \\\n",
              "0       2016-01-05 00:00:00   WLTW  123.430000  125.839996  122.309998   \n",
              "1       2016-01-06 00:00:00   WLTW  125.239998  119.980003  119.940002   \n",
              "2       2016-01-07 00:00:00   WLTW  116.379997  114.949997  114.930000   \n",
              "3       2016-01-08 00:00:00   WLTW  115.480003  116.620003  113.500000   \n",
              "4       2016-01-11 00:00:00   WLTW  117.010002  114.970001  114.089996   \n",
              "...                     ...    ...         ...         ...         ...   \n",
              "369277           2013-02-14    VMC   55.459999   54.869999   52.790001   \n",
              "369278           2013-02-14    VNO   85.209995   85.040005   84.609993   \n",
              "369279           2013-02-14   VRSK   54.470001   54.270000   54.259998   \n",
              "369280           2013-02-14   VRSN   45.560001   45.669998   45.380001   \n",
              "369281                  201    NaN         NaN         NaN         NaN   \n",
              "\n",
              "              high     volume  \n",
              "0       126.250000  2163600.0  \n",
              "1       125.540001  2386400.0  \n",
              "2       119.739998  2489500.0  \n",
              "3       117.440002  2006300.0  \n",
              "4       117.330002  1408600.0  \n",
              "...            ...        ...  \n",
              "369277   55.500000  1673800.0  \n",
              "369278   85.280005   767300.0  \n",
              "369279   54.549999   406300.0  \n",
              "369280   45.810001  1776000.0  \n",
              "369281         NaN        NaN  \n",
              "\n",
              "[369282 rows x 7 columns]"
            ],
            "text/html": [
              "\n",
              "  <div id=\"df-59e53b67-dc62-4dd0-90c8-1ea4b37d13d0\">\n",
              "    <div class=\"colab-df-container\">\n",
              "      <div>\n",
              "<style scoped>\n",
              "    .dataframe tbody tr th:only-of-type {\n",
              "        vertical-align: middle;\n",
              "    }\n",
              "\n",
              "    .dataframe tbody tr th {\n",
              "        vertical-align: top;\n",
              "    }\n",
              "\n",
              "    .dataframe thead th {\n",
              "        text-align: right;\n",
              "    }\n",
              "</style>\n",
              "<table border=\"1\" class=\"dataframe\">\n",
              "  <thead>\n",
              "    <tr style=\"text-align: right;\">\n",
              "      <th></th>\n",
              "      <th>date</th>\n",
              "      <th>symbol</th>\n",
              "      <th>open</th>\n",
              "      <th>close</th>\n",
              "      <th>low</th>\n",
              "      <th>high</th>\n",
              "      <th>volume</th>\n",
              "    </tr>\n",
              "  </thead>\n",
              "  <tbody>\n",
              "    <tr>\n",
              "      <th>0</th>\n",
              "      <td>2016-01-05 00:00:00</td>\n",
              "      <td>WLTW</td>\n",
              "      <td>123.430000</td>\n",
              "      <td>125.839996</td>\n",
              "      <td>122.309998</td>\n",
              "      <td>126.250000</td>\n",
              "      <td>2163600.0</td>\n",
              "    </tr>\n",
              "    <tr>\n",
              "      <th>1</th>\n",
              "      <td>2016-01-06 00:00:00</td>\n",
              "      <td>WLTW</td>\n",
              "      <td>125.239998</td>\n",
              "      <td>119.980003</td>\n",
              "      <td>119.940002</td>\n",
              "      <td>125.540001</td>\n",
              "      <td>2386400.0</td>\n",
              "    </tr>\n",
              "    <tr>\n",
              "      <th>2</th>\n",
              "      <td>2016-01-07 00:00:00</td>\n",
              "      <td>WLTW</td>\n",
              "      <td>116.379997</td>\n",
              "      <td>114.949997</td>\n",
              "      <td>114.930000</td>\n",
              "      <td>119.739998</td>\n",
              "      <td>2489500.0</td>\n",
              "    </tr>\n",
              "    <tr>\n",
              "      <th>3</th>\n",
              "      <td>2016-01-08 00:00:00</td>\n",
              "      <td>WLTW</td>\n",
              "      <td>115.480003</td>\n",
              "      <td>116.620003</td>\n",
              "      <td>113.500000</td>\n",
              "      <td>117.440002</td>\n",
              "      <td>2006300.0</td>\n",
              "    </tr>\n",
              "    <tr>\n",
              "      <th>4</th>\n",
              "      <td>2016-01-11 00:00:00</td>\n",
              "      <td>WLTW</td>\n",
              "      <td>117.010002</td>\n",
              "      <td>114.970001</td>\n",
              "      <td>114.089996</td>\n",
              "      <td>117.330002</td>\n",
              "      <td>1408600.0</td>\n",
              "    </tr>\n",
              "    <tr>\n",
              "      <th>...</th>\n",
              "      <td>...</td>\n",
              "      <td>...</td>\n",
              "      <td>...</td>\n",
              "      <td>...</td>\n",
              "      <td>...</td>\n",
              "      <td>...</td>\n",
              "      <td>...</td>\n",
              "    </tr>\n",
              "    <tr>\n",
              "      <th>369277</th>\n",
              "      <td>2013-02-14</td>\n",
              "      <td>VMC</td>\n",
              "      <td>55.459999</td>\n",
              "      <td>54.869999</td>\n",
              "      <td>52.790001</td>\n",
              "      <td>55.500000</td>\n",
              "      <td>1673800.0</td>\n",
              "    </tr>\n",
              "    <tr>\n",
              "      <th>369278</th>\n",
              "      <td>2013-02-14</td>\n",
              "      <td>VNO</td>\n",
              "      <td>85.209995</td>\n",
              "      <td>85.040005</td>\n",
              "      <td>84.609993</td>\n",
              "      <td>85.280005</td>\n",
              "      <td>767300.0</td>\n",
              "    </tr>\n",
              "    <tr>\n",
              "      <th>369279</th>\n",
              "      <td>2013-02-14</td>\n",
              "      <td>VRSK</td>\n",
              "      <td>54.470001</td>\n",
              "      <td>54.270000</td>\n",
              "      <td>54.259998</td>\n",
              "      <td>54.549999</td>\n",
              "      <td>406300.0</td>\n",
              "    </tr>\n",
              "    <tr>\n",
              "      <th>369280</th>\n",
              "      <td>2013-02-14</td>\n",
              "      <td>VRSN</td>\n",
              "      <td>45.560001</td>\n",
              "      <td>45.669998</td>\n",
              "      <td>45.380001</td>\n",
              "      <td>45.810001</td>\n",
              "      <td>1776000.0</td>\n",
              "    </tr>\n",
              "    <tr>\n",
              "      <th>369281</th>\n",
              "      <td>201</td>\n",
              "      <td>NaN</td>\n",
              "      <td>NaN</td>\n",
              "      <td>NaN</td>\n",
              "      <td>NaN</td>\n",
              "      <td>NaN</td>\n",
              "      <td>NaN</td>\n",
              "    </tr>\n",
              "  </tbody>\n",
              "</table>\n",
              "<p>369282 rows × 7 columns</p>\n",
              "</div>\n",
              "      <button class=\"colab-df-convert\" onclick=\"convertToInteractive('df-59e53b67-dc62-4dd0-90c8-1ea4b37d13d0')\"\n",
              "              title=\"Convert this dataframe to an interactive table.\"\n",
              "              style=\"display:none;\">\n",
              "        \n",
              "  <svg xmlns=\"http://www.w3.org/2000/svg\" height=\"24px\"viewBox=\"0 0 24 24\"\n",
              "       width=\"24px\">\n",
              "    <path d=\"M0 0h24v24H0V0z\" fill=\"none\"/>\n",
              "    <path d=\"M18.56 5.44l.94 2.06.94-2.06 2.06-.94-2.06-.94-.94-2.06-.94 2.06-2.06.94zm-11 1L8.5 8.5l.94-2.06 2.06-.94-2.06-.94L8.5 2.5l-.94 2.06-2.06.94zm10 10l.94 2.06.94-2.06 2.06-.94-2.06-.94-.94-2.06-.94 2.06-2.06.94z\"/><path d=\"M17.41 7.96l-1.37-1.37c-.4-.4-.92-.59-1.43-.59-.52 0-1.04.2-1.43.59L10.3 9.45l-7.72 7.72c-.78.78-.78 2.05 0 2.83L4 21.41c.39.39.9.59 1.41.59.51 0 1.02-.2 1.41-.59l7.78-7.78 2.81-2.81c.8-.78.8-2.07 0-2.86zM5.41 20L4 18.59l7.72-7.72 1.47 1.35L5.41 20z\"/>\n",
              "  </svg>\n",
              "      </button>\n",
              "      \n",
              "  <style>\n",
              "    .colab-df-container {\n",
              "      display:flex;\n",
              "      flex-wrap:wrap;\n",
              "      gap: 12px;\n",
              "    }\n",
              "\n",
              "    .colab-df-convert {\n",
              "      background-color: #E8F0FE;\n",
              "      border: none;\n",
              "      border-radius: 50%;\n",
              "      cursor: pointer;\n",
              "      display: none;\n",
              "      fill: #1967D2;\n",
              "      height: 32px;\n",
              "      padding: 0 0 0 0;\n",
              "      width: 32px;\n",
              "    }\n",
              "\n",
              "    .colab-df-convert:hover {\n",
              "      background-color: #E2EBFA;\n",
              "      box-shadow: 0px 1px 2px rgba(60, 64, 67, 0.3), 0px 1px 3px 1px rgba(60, 64, 67, 0.15);\n",
              "      fill: #174EA6;\n",
              "    }\n",
              "\n",
              "    [theme=dark] .colab-df-convert {\n",
              "      background-color: #3B4455;\n",
              "      fill: #D2E3FC;\n",
              "    }\n",
              "\n",
              "    [theme=dark] .colab-df-convert:hover {\n",
              "      background-color: #434B5C;\n",
              "      box-shadow: 0px 1px 3px 1px rgba(0, 0, 0, 0.15);\n",
              "      filter: drop-shadow(0px 1px 2px rgba(0, 0, 0, 0.3));\n",
              "      fill: #FFFFFF;\n",
              "    }\n",
              "  </style>\n",
              "\n",
              "      <script>\n",
              "        const buttonEl =\n",
              "          document.querySelector('#df-59e53b67-dc62-4dd0-90c8-1ea4b37d13d0 button.colab-df-convert');\n",
              "        buttonEl.style.display =\n",
              "          google.colab.kernel.accessAllowed ? 'block' : 'none';\n",
              "\n",
              "        async function convertToInteractive(key) {\n",
              "          const element = document.querySelector('#df-59e53b67-dc62-4dd0-90c8-1ea4b37d13d0');\n",
              "          const dataTable =\n",
              "            await google.colab.kernel.invokeFunction('convertToInteractive',\n",
              "                                                     [key], {});\n",
              "          if (!dataTable) return;\n",
              "\n",
              "          const docLinkHtml = 'Like what you see? Visit the ' +\n",
              "            '<a target=\"_blank\" href=https://colab.research.google.com/notebooks/data_table.ipynb>data table notebook</a>'\n",
              "            + ' to learn more about interactive tables.';\n",
              "          element.innerHTML = '';\n",
              "          dataTable['output_type'] = 'display_data';\n",
              "          await google.colab.output.renderOutput(dataTable, element);\n",
              "          const docLink = document.createElement('div');\n",
              "          docLink.innerHTML = docLinkHtml;\n",
              "          element.appendChild(docLink);\n",
              "        }\n",
              "      </script>\n",
              "    </div>\n",
              "  </div>\n",
              "  "
            ]
          },
          "metadata": {},
          "execution_count": 8
        }
      ],
      "source": [
        "prices_dataset =  pd.read_csv('prices.csv',header=0)\n",
        "prices_dataset"
      ]
    },
    {
      "cell_type": "code",
      "execution_count": null,
      "metadata": {
        "_cell_guid": "afbaa2e6-6f36-7726-bff0-399b365382fb",
        "colab": {
          "base_uri": "https://localhost:8080/"
        },
        "id": "nCiIXjt0lbqB",
        "outputId": "30981423-2abd-43b8-b640-da27c318dd21"
      },
      "outputs": [
        {
          "output_type": "execute_result",
          "data": {
            "text/plain": [
              "(784, 1)"
            ]
          },
          "metadata": {},
          "execution_count": 13
        }
      ],
      "source": [
        "yahoo = prices_dataset[prices_dataset['symbol']=='YHOO']\n",
        "yahoo_stock_prices = yahoo.close.values.astype('float32')\n",
        "yahoo_stock_prices = yahoo_stock_prices.reshape(784, 1)\n",
        "yahoo_stock_prices.shape"
      ]
    },
    {
      "cell_type": "code",
      "execution_count": null,
      "metadata": {
        "_cell_guid": "a7fe4936-c44b-1788-a16b-35b5b1eb675c",
        "colab": {
          "base_uri": "https://localhost:8080/",
          "height": 430
        },
        "id": "5J1HQtjalbqD",
        "outputId": "e0a6d0ac-c049-4587-c8c5-22d334ec0144"
      },
      "outputs": [
        {
          "output_type": "display_data",
          "data": {
            "text/plain": [
              "<Figure size 640x480 with 1 Axes>"
            ],
            "image/png": "[encoded data removed]"
          },
          "metadata": {}
        }
      ],
      "source": [
        "plt.plot(yahoo_stock_prices)\n",
        "plt.show()\n",
        "\n",
        "scaler = MinMaxScaler(feature_range=(0, 1))\n",
        "yahoo_stock_prices = scaler.fit_transform(yahoo_stock_prices)"
      ]
    },
    {
      "cell_type": "code",
      "execution_count": null,
      "metadata": {
        "_cell_guid": "2f69042b-d335-b8ff-ec17-980189526e7d",
        "colab": {
          "base_uri": "https://localhost:8080/"
        },
        "id": "2TEb-aFplbqE",
        "outputId": "5c1ea652-d038-45e2-d42e-68819fa0ca6f"
      },
      "outputs": [
        {
          "output_type": "stream",
          "name": "stdout",
          "text": [
            "627 157\n"
          ]
        }
      ],
      "source": [
        "train_size = int(len(yahoo_stock_prices) * 0.80)\n",
        "test_size = len(yahoo_stock_prices) - train_size\n",
        "train, test = yahoo_stock_prices[0:train_size,:], yahoo_stock_prices[train_size:len(yahoo_stock_prices),:]\n",
        "print(len(train), len(test))"
      ]
    },
    {
      "cell_type": "code",
      "execution_count": null,
      "metadata": {
        "_cell_guid": "f9d24454-e0a4-a6e5-f04f-1b46b810158c",
        "id": "fppEaf9UlbqE"
      },
      "outputs": [],
      "source": [
        "# convert an array of values into a dataset matrix\n",
        "def create_dataset(dataset, look_back=1):\n",
        "\tdataX, dataY = [], []\n",
        "\tfor i in range(len(dataset)-look_back-1):\n",
        "\t\ta = dataset[i:(i+look_back), 0]\n",
        "\t\tdataX.append(a)\n",
        "\t\tdataY.append(dataset[i + look_back, 0])\n",
        "\treturn np.array(dataX), np.array(dataY)"
      ]
    },
    {
      "cell_type": "code",
      "execution_count": null,
      "metadata": {
        "_cell_guid": "17f5bc9d-47ad-2206-71cd-e85ecac42175",
        "id": "eo3GYwb3lbqF"
      },
      "outputs": [],
      "source": [
        "# reshape into X=t and Y=t+1\n",
        "look_back = 1\n",
        "trainX, trainY = create_dataset(train, look_back)\n",
        "testX, testY = create_dataset(test, look_back)"
      ]
    },
    {
      "cell_type": "code",
      "execution_count": null,
      "metadata": {
        "_cell_guid": "a74ff89f-d274-de8c-f11c-bf2ffaf29eed",
        "id": "rlekwJvclbqF"
      },
      "outputs": [],
      "source": [
        "trainX = np.reshape(trainX, (trainX.shape[0], 1, trainX.shape[1]))\n",
        "testX = np.reshape(testX, (testX.shape[0], 1, testX.shape[1]))"
      ]
    },
    {
      "cell_type": "code",
      "execution_count": null,
      "metadata": {
        "_cell_guid": "6e379f90-c703-6712-12ed-9aa0942a5408",
        "colab": {
          "base_uri": "https://localhost:8080/"
        },
        "id": "-y7Gyo5klbqG",
        "outputId": "5900fb5d-0474-49d8-d0c9-8d8a3d5469e8"
      },
      "outputs": [
        {
          "output_type": "stream",
          "name": "stdout",
          "text": [
            "compilation time :  0.018996000289916992\n"
          ]
        }
      ],
      "source": [
        "#Step 2 Build Model\n",
        "model = Sequential()\n",
        "\n",
        "model.add(LSTM(units=50, return_sequences=True, input_shape=(trainX.shape[1], 1)))\n",
        "model.add(Dropout(0.2))\n",
        "\n",
        "model.add(LSTM(\n",
        "    100,\n",
        "    return_sequences=False))\n",
        "model.add(Dropout(0.2))\n",
        "\n",
        "model.add(Dense(units=1))\n",
        "model.add(Activation('linear'))\n",
        "\n",
        "start = time.time()\n",
        "model.compile(loss='mse', optimizer='rmsprop')\n",
        "print ('compilation time : ', time.time() - start)"
      ]
    },
    {
      "cell_type": "code",
      "execution_count": null,
      "metadata": {
        "_cell_guid": "e668a235-00fe-4fe3-925b-99051ae376f9",
        "colab": {
          "base_uri": "https://localhost:8080/"
        },
        "id": "bHmUhPXXlbqG",
        "outputId": "839fa1b1-030f-44ee-fbea-d8ccc2661f18"
      },
      "outputs": [
        {
          "output_type": "stream",
          "name": "stdout",
          "text": [
            "Epoch 1/10\n",
            "5/5 [==============================] - 7s 269ms/step - loss: 0.1850 - val_loss: 0.1309\n",
            "Epoch 2/10\n",
            "5/5 [==============================] - 0s 15ms/step - loss: 0.1436 - val_loss: 0.0983\n",
            "Epoch 3/10\n",
            "5/5 [==============================] - 0s 17ms/step - loss: 0.1100 - val_loss: 0.0698\n",
            "Epoch 4/10\n",
            "5/5 [==============================] - 0s 15ms/step - loss: 0.0800 - val_loss: 0.0447\n",
            "Epoch 5/10\n",
            "5/5 [==============================] - 0s 14ms/step - loss: 0.0539 - val_loss: 0.0249\n",
            "Epoch 6/10\n",
            "5/5 [==============================] - 0s 17ms/step - loss: 0.0339 - val_loss: 0.0114\n",
            "Epoch 7/10\n",
            "5/5 [==============================] - 0s 15ms/step - loss: 0.0201 - val_loss: 0.0040\n",
            "Epoch 8/10\n",
            "5/5 [==============================] - 0s 15ms/step - loss: 0.0123 - val_loss: 8.7458e-04\n",
            "Epoch 9/10\n",
            "5/5 [==============================] - 0s 16ms/step - loss: 0.0095 - val_loss: 3.1441e-04\n",
            "Epoch 10/10\n",
            "5/5 [==============================] - 0s 15ms/step - loss: 0.0085 - val_loss: 4.1392e-04\n"
          ]
        },
        {
          "output_type": "execute_result",
          "data": {
            "text/plain": [
              "<keras.callbacks.History at 0x7fedac4e6d70>"
            ]
          },
          "metadata": {},
          "execution_count": 30
        }
      ],
      "source": [
        "model.fit(\n",
        "    trainX,\n",
        "    trainY,\n",
        "    batch_size=128,\n",
        "    epochs=10,\n",
        "    validation_split=0.05)"
      ]
    },
    {
      "cell_type": "markdown",
      "metadata": {
        "_cell_guid": "47e1110a-81cc-20f8-4157-39b83e000cd7",
        "id": "-XMqcHd-lbqH"
      },
      "source": [
        "## work in progress"
      ]
    },
    {
      "cell_type": "code",
      "execution_count": null,
      "metadata": {
        "_cell_guid": "7fbffc92-2c8b-e384-77a1-f042762c0593",
        "colab": {
          "base_uri": "https://localhost:8080/",
          "height": 777
        },
        "id": "MFORdAHnlbqH",
        "outputId": "9f9af43e-2a2a-425c-87e4-0fa0c227b641"
      },
      "outputs": [
        {
          "output_type": "stream",
          "name": "stdout",
          "text": [
            "1/1 [==============================] - 1s 834ms/step\n",
            "[[0.43460876]]\n",
            "1/1 [==============================] - 0s 23ms/step\n",
            "1/1 [==============================] - 1s 836ms/step\n",
            "[[0.87638855]]\n",
            "1/1 [==============================] - 0s 24ms/step\n",
            "1/1 [==============================] - 0s 28ms/step\n",
            "[[1.4228654]]\n",
            "1/1 [==============================] - 0s 25ms/step\n",
            "1/1 [==============================] - 0s 25ms/step\n",
            "[[2.09786]]\n",
            "1/1 [==============================] - 0s 26ms/step\n",
            "1/1 [==============================] - 0s 25ms/step\n",
            "[[2.8798258]]\n",
            "1/1 [==============================] - 0s 25ms/step\n",
            "[[15.48824 ]\n",
            " [19.959051]\n",
            " [25.489397]\n",
            " [32.320343]\n",
            " [40.233833]]\n"
          ]
        },
        {
          "output_type": "display_data",
          "data": {
            "text/plain": [
              "<Figure size 640x480 with 1 Axes>"
            ],
            "image/png": "[encoded data removed]"
          },
          "metadata": {}
        }
      ],
      "source": [
        "def plot_results_multiple(predicted_data, true_data,length):\n",
        "    plt.plot(scaler.inverse_transform(true_data.reshape(-1, 1))[length:])\n",
        "    plt.plot(scaler.inverse_transform(np.array(predicted_data).reshape(-1, 1))[length:])\n",
        "    plt.show()\n",
        "    \n",
        "#predict lenght consecutive values from a real one\n",
        "def predict_sequences_multiple(model, firstValue,length):\n",
        "    prediction_seqs = []\n",
        "    curr_frame = firstValue\n",
        "    \n",
        "    for i in range(length): \n",
        "        predicted = []        \n",
        "        \n",
        "        print(model.predict(curr_frame[newaxis,:,:]))\n",
        "        predicted.append(model.predict(curr_frame[newaxis,:,:])[0,0])\n",
        "        \n",
        "        curr_frame = curr_frame[0:]\n",
        "        curr_frame = np.insert(curr_frame[0:], i+1, predicted[-1], axis=0)\n",
        "        \n",
        "        prediction_seqs.append(predicted[-1])\n",
        "        \n",
        "    return prediction_seqs\n",
        "\n",
        "predict_length=5\n",
        "predictions = predict_sequences_multiple(model, testX[0], predict_length)\n",
        "print(scaler.inverse_transform(np.array(predictions).reshape(-1, 1)))\n",
        "plot_results_multiple(predictions, testY, predict_length)"
      ]
    },
    {
      "cell_type": "markdown",
      "source": [
        "\n",
        "\n",
        "---"
      ],
      "metadata": {
        "id": "xtoxZVCGgehS"
      }
    }
  ],
  "metadata": {
    "_change_revision": 903,
    "_is_fork": false,
    "kernelspec": {
      "display_name": "Python 3",
      "language": "python",
      "name": "python3"
    },
    "language_info": {
      "codemirror_mode": {
        "name": "ipython",
        "version": 3
      },
      "file_extension": ".py",
      "mimetype": "text/x-python",
      "name": "python",
      "nbconvert_exporter": "python",
      "pygments_lexer": "ipython3",
      "version": "3.6.0"
    },
    "colab": {
      "provenance": [],
      "include_colab_link": true
    }
  },
  "nbformat": 4,
  "nbformat_minor": 0
}